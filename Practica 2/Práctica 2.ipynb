{
  "nbformat": 4,
  "nbformat_minor": 0,
  "metadata": {
    "colab": {
      "name": "Flujo máximo coste mínimo.ipynb",
      "provenance": []
    },
    "kernelspec": {
      "name": "python3",
      "display_name": "Python 3"
    },
    "language_info": {
      "name": "python"
    }
  },
  "cells": [
    {
      "cell_type": "markdown",
      "metadata": {
        "id": "B9QioeH0phMU"
      },
      "source": [
        "# **Problema de Flujo máximo a coste mínimo.**\n",
        "\n",
        "***Nombre:*** Borja Guanche Sicilia \n",
        "\n",
        "***Correo:*** alu0101205908@ull.edu.es"
      ]
    },
    {
      "cell_type": "code",
      "metadata": {
        "colab": {
          "base_uri": "https://localhost:8080/"
        },
        "id": "6sZU2ZS-O6X0",
        "outputId": "91658e46-0fa1-4d67-df9b-4ff818baac5c"
      },
      "source": [
        "import random\n",
        "import matplotlib.pyplot as plt\n",
        "import math\n",
        "import numpy as np\n",
        "!pip install ortools\n",
        "!pip install ortoolsfrom ortools.linear_solver import pywraplp\n",
        "from ortools.linear_solver import pywraplp\n",
        "!pip install tabulate\n",
        "from tabulate import tabulate"
      ],
      "execution_count": null,
      "outputs": [
        {
          "output_type": "stream",
          "name": "stdout",
          "text": [
            "Requirement already satisfied: ortools in /usr/local/lib/python3.7/dist-packages (9.1.9490)\n",
            "Requirement already satisfied: absl-py>=0.13 in /usr/local/lib/python3.7/dist-packages (from ortools) (1.0.0)\n",
            "Requirement already satisfied: protobuf>=3.18.0 in /usr/local/lib/python3.7/dist-packages (from ortools) (3.19.1)\n",
            "Requirement already satisfied: six in /usr/local/lib/python3.7/dist-packages (from absl-py>=0.13->ortools) (1.15.0)\n",
            "\u001b[31mERROR: Could not find a version that satisfies the requirement ortoolsfrom (from versions: none)\u001b[0m\n",
            "\u001b[31mERROR: No matching distribution found for ortoolsfrom\u001b[0m\n",
            "Requirement already satisfied: tabulate in /usr/local/lib/python3.7/dist-packages (0.8.9)\n"
          ]
        }
      ]
    },
    {
      "cell_type": "code",
      "metadata": {
        "id": "khk8avD_jUNV"
      },
      "source": [
        "n = 20\n",
        "v = range(n)\n",
        "s = 0    # Nodo fuente (inicio)\n",
        "t = n-1  # Nodo sumidero (destino)\n",
        "\n",
        "random.seed(1024)"
      ],
      "execution_count": null,
      "outputs": []
    },
    {
      "cell_type": "code",
      "metadata": {
        "id": "_79SQKFfJCbY"
      },
      "source": [
        "# Función para dibujar los nodos y arcos\n",
        "def dibuja(selected):\n",
        "\n",
        "    fig, ax = plt.subplots()\n",
        "    for (i,j) in selected:\n",
        "      plt.plot([points[i][0],points[j][0]], [points[i][1],points[j][1]], 'r-')\n",
        "    plt.plot([p[0] for p in points], [p[1] for p in points], 'co')\n",
        "    [ax.annotate(i, (points[i][0], points[i][1])) for i in range(n) if i != s and i != t]\n",
        "    ax.annotate(\"s\", (points[s][0], points[s][1])); ax.annotate(\"t\", (points[t][0], points[t][1]))\n",
        "    plt.plot(points[s][0],points[s][1], 'ys'); plt.plot(points[t][0],points[t][1], 'ys')\n",
        "\n",
        "\n",
        "# Función para mostrar los costes y las capacidades de los arcos\n",
        "def mostrarCostesCapacidades(pares, puntos, costes, capacidades):\n",
        "\n",
        "  lista = []; lista.append([\"Nodo origen (i):\", \"Nodo destino (j):\", \"Capacidad:\", \"Coste unitario:\"])\n",
        "  for (i,j) in pares:\n",
        "      if puntos[i][0] != puntos[j][0] and puntos[i][1] != puntos[j][1]:\n",
        "        if i == s:\n",
        "          lista.append([\"s\", j, capacidades[i,j], costes[i,j]])\n",
        "        elif j == s:\n",
        "          lista.append([i, \"s\", capacidades[i,j], costes[i,j]])\n",
        "        elif j == t:\n",
        "          lista.append([i, \"t\", capacidades[i,j], costes[i,j]])\n",
        "        elif i == t:\n",
        "          lista.append([\"t\", j, capacidades[i,j], costes[i,j]])\n",
        "        else:\n",
        "          lista.append([i, j, capacidades[i,j], costes[i,j]])\n",
        "  \n",
        "  print(tabulate(lista, headers=\"firstrow\", tablefmt=\"fancy_grid\", showindex=False))\n",
        "  print(\"\\n\\n\")\n",
        "\n",
        "\n",
        "# Función para mostrar la solución que devuelve problema de Flujo Máximo a coste mínimo\n",
        "def mostrarSolucion(aristas, coste, capacidades):\n",
        "\n",
        "  solucion = []; solucion.append([\"Nodo origen (i):\", \"Nodo destino (j):\", \"Capacidad:\", \"Coste unitario:\", \"Flujo:\", \"Coste:\", \"Coste acumulado:\"])\n",
        "  aristasS = []; costeAcc = 0\n",
        "  for i in v:\n",
        "    for j in v:\n",
        "      if aristas[i,j].solution_value() > 0.5:\n",
        "        costeXflujo = coste[i,j] * aristas[i,j].solution_value()\n",
        "        costeAcc += costeXflujo\n",
        "        if i == s:\n",
        "          solucion.append([\"s\", j, capacidades[i,j], coste[i,j], aristas[i,j].solution_value(), costeXflujo, costeAcc])\n",
        "        elif j == t:\n",
        "          solucion.append([i, \"t\", capacidades[i,j], coste[i,j], aristas[i,j].solution_value(), costeXflujo, costeAcc])\n",
        "        else:\n",
        "          solucion.append([i, j, capacidades[i,j], coste[i,j], aristas[i,j].solution_value(), costeXflujo, costeAcc])\n",
        "        aristasS.append((i, j))\n",
        "\n",
        "  print(tabulate(solucion, headers=\"firstrow\", tablefmt=\"fancy_grid\", showindex=False))\n",
        "  \n",
        "  return aristasS"
      ],
      "execution_count": null,
      "outputs": []
    },
    {
      "cell_type": "code",
      "metadata": {
        "colab": {
          "base_uri": "https://localhost:8080/",
          "height": 265
        },
        "id": "Jqabtrl2JmXG",
        "outputId": "f4a0d12c-30ee-49b3-b6ef-70afc8ee3fcb"
      },
      "source": [
        "# Generamos los n nodos \n",
        "points   = [(random.randint(0, 100),random.randint(0, 100)) for i in v]\n",
        "\n",
        "points[0]=[0, 0] # Nodo inicial (esquina inferior izquierda)\n",
        "points[n-1]=[100, 100] # Nodo final (esquina superior derecha)\n",
        "\n",
        "dibuja({})"
      ],
      "execution_count": null,
      "outputs": [
        {
          "output_type": "display_data",
          "data": {
            "image/png": "[encoded data removed]",
            "text/plain": [
              "<Figure size 432x288 with 1 Axes>"
            ]
          },
          "metadata": {
            "needs_background": "light"
          }
        }
      ]
    },
    {
      "cell_type": "code",
      "metadata": {
        "colab": {
          "base_uri": "https://localhost:8080/",
          "height": 1000
        },
        "id": "_buqw9bvj4et",
        "outputId": "19c39bdf-59dc-4e4c-d14b-fe81d264644f"
      },
      "source": [
        "c =  np.zeros((n, n)) # Matriz de costos\n",
        "k =  np.zeros((n, n)) # Matriz de capacidades\n",
        "\n",
        "# Asignación aleatoria de los costes y de las capacidades\n",
        "for i in v :\n",
        "  for j in v:\n",
        "    if j != i:\n",
        "      dx = points[i][0] - points[j][0]\n",
        "      dy = points[i][1] - points[j][1]\n",
        "      dist = math.floor(math.sqrt(dx*dx + dy*dy)*random.uniform(1.0, 1.2))\n",
        "      if dist > 20 and j != i + 1 :\n",
        "        c[i, j] = 1000\n",
        "        k[i, j] = 0.0\n",
        "      else :\n",
        "        c[i, j] = dist\n",
        "        k[i, j] = random.randint(1, 10)\n",
        "        \n",
        "selected = [(i, j) for i in v for j in v if c[i, j] < 200]\n",
        "dibuja(selected)\n",
        "mostrarCostesCapacidades(selected, points, c, k)"
      ],
      "execution_count": null,
      "outputs": [
        {
          "output_type": "stream",
          "name": "stdout",
          "text": [
            "╒════════════════════╤═════════════════════╤══════════════╤═══════════════════╕\n",
            "│ Nodo origen (i):   │ Nodo destino (j):   │   Capacidad: │   Coste unitario: │\n",
            "╞════════════════════╪═════════════════════╪══════════════╪═══════════════════╡\n",
            "│ s                  │ 1                   │            5 │                68 │\n",
            "├────────────────────┼─────────────────────┼──────────────┼───────────────────┤\n",
            "│ s                  │ 15                  │            4 │                10 │\n",
            "├────────────────────┼─────────────────────┼──────────────┼───────────────────┤\n",
            "│ s                  │ 17                  │            6 │                19 │\n",
            "├────────────────────┼─────────────────────┼──────────────┼───────────────────┤\n",
            "│ 1                  │ 2                   │            7 │                38 │\n",
            "├────────────────────┼─────────────────────┼──────────────┼───────────────────┤\n",
            "│ 1                  │ 11                  │           10 │                19 │\n",
            "├────────────────────┼─────────────────────┼──────────────┼───────────────────┤\n",
            "│ 2                  │ 3                   │           10 │                62 │\n",
            "├────────────────────┼─────────────────────┼──────────────┼───────────────────┤\n",
            "│ 2                  │ 14                  │            9 │                12 │\n",
            "├────────────────────┼─────────────────────┼──────────────┼───────────────────┤\n",
            "│ 3                  │ 4                   │            9 │                29 │\n",
            "├────────────────────┼─────────────────────┼──────────────┼───────────────────┤\n",
            "│ 3                  │ 11                  │            7 │                 8 │\n",
            "├────────────────────┼─────────────────────┼──────────────┼───────────────────┤\n",
            "│ 3                  │ 13                  │            4 │                19 │\n",
            "├────────────────────┼─────────────────────┼──────────────┼───────────────────┤\n",
            "│ 4                  │ 5                   │            2 │                75 │\n",
            "├────────────────────┼─────────────────────┼──────────────┼───────────────────┤\n",
            "│ 4                  │ 13                  │            4 │                15 │\n",
            "├────────────────────┼─────────────────────┼──────────────┼───────────────────┤\n",
            "│ 5                  │ 6                   │            5 │                58 │\n",
            "├────────────────────┼─────────────────────┼──────────────┼───────────────────┤\n",
            "│ 6                  │ 7                   │            1 │               105 │\n",
            "├────────────────────┼─────────────────────┼──────────────┼───────────────────┤\n",
            "│ 7                  │ 8                   │            8 │                96 │\n",
            "├────────────────────┼─────────────────────┼──────────────┼───────────────────┤\n",
            "│ 7                  │ 16                  │            6 │                10 │\n",
            "├────────────────────┼─────────────────────┼──────────────┼───────────────────┤\n",
            "│ 7                  │ t                   │           10 │                11 │\n",
            "├────────────────────┼─────────────────────┼──────────────┼───────────────────┤\n",
            "│ 8                  │ 9                   │            5 │                 5 │\n",
            "├────────────────────┼─────────────────────┼──────────────┼───────────────────┤\n",
            "│ 8                  │ 10                  │            5 │                 6 │\n",
            "├────────────────────┼─────────────────────┼──────────────┼───────────────────┤\n",
            "│ 9                  │ 8                   │            4 │                 5 │\n",
            "├────────────────────┼─────────────────────┼──────────────┼───────────────────┤\n",
            "│ 9                  │ 10                  │            6 │                 7 │\n",
            "├────────────────────┼─────────────────────┼──────────────┼───────────────────┤\n",
            "│ 10                 │ 8                   │            6 │                 6 │\n",
            "├────────────────────┼─────────────────────┼──────────────┼───────────────────┤\n",
            "│ 10                 │ 9                   │            4 │                 6 │\n",
            "├────────────────────┼─────────────────────┼──────────────┼───────────────────┤\n",
            "│ 10                 │ 11                  │            8 │                44 │\n",
            "├────────────────────┼─────────────────────┼──────────────┼───────────────────┤\n",
            "│ 11                 │ 1                   │            3 │                20 │\n",
            "├────────────────────┼─────────────────────┼──────────────┼───────────────────┤\n",
            "│ 11                 │ 3                   │            4 │                 9 │\n",
            "├────────────────────┼─────────────────────┼──────────────┼───────────────────┤\n",
            "│ 11                 │ 12                  │            7 │                37 │\n",
            "├────────────────────┼─────────────────────┼──────────────┼───────────────────┤\n",
            "│ 12                 │ 13                  │            6 │                54 │\n",
            "├────────────────────┼─────────────────────┼──────────────┼───────────────────┤\n",
            "│ 13                 │ 3                   │            4 │                19 │\n",
            "├────────────────────┼─────────────────────┼──────────────┼───────────────────┤\n",
            "│ 13                 │ 4                   │            8 │                16 │\n",
            "├────────────────────┼─────────────────────┼──────────────┼───────────────────┤\n",
            "│ 13                 │ 14                  │            6 │                81 │\n",
            "├────────────────────┼─────────────────────┼──────────────┼───────────────────┤\n",
            "│ 13                 │ 18                  │            2 │                11 │\n",
            "├────────────────────┼─────────────────────┼──────────────┼───────────────────┤\n",
            "│ 14                 │ 2                   │            7 │                11 │\n",
            "├────────────────────┼─────────────────────┼──────────────┼───────────────────┤\n",
            "│ 14                 │ 15                  │           10 │                86 │\n",
            "├────────────────────┼─────────────────────┼──────────────┼───────────────────┤\n",
            "│ 15                 │ s                   │            1 │                12 │\n",
            "├────────────────────┼─────────────────────┼──────────────┼───────────────────┤\n",
            "│ 15                 │ 16                  │            5 │               129 │\n",
            "├────────────────────┼─────────────────────┼──────────────┼───────────────────┤\n",
            "│ 15                 │ 17                  │            9 │                 7 │\n",
            "├────────────────────┼─────────────────────┼──────────────┼───────────────────┤\n",
            "│ 16                 │ 7                   │            6 │                11 │\n",
            "├────────────────────┼─────────────────────┼──────────────┼───────────────────┤\n",
            "│ 16                 │ 17                  │           10 │               122 │\n",
            "├────────────────────┼─────────────────────┼──────────────┼───────────────────┤\n",
            "│ 16                 │ t                   │           10 │                20 │\n",
            "├────────────────────┼─────────────────────┼──────────────┼───────────────────┤\n",
            "│ 17                 │ s                   │            6 │                19 │\n",
            "├────────────────────┼─────────────────────┼──────────────┼───────────────────┤\n",
            "│ 17                 │ 15                  │            6 │                 7 │\n",
            "├────────────────────┼─────────────────────┼──────────────┼───────────────────┤\n",
            "│ 17                 │ 18                  │            9 │                97 │\n",
            "├────────────────────┼─────────────────────┼──────────────┼───────────────────┤\n",
            "│ 18                 │ 13                  │            8 │                11 │\n",
            "├────────────────────┼─────────────────────┼──────────────┼───────────────────┤\n",
            "│ 18                 │ t                   │            7 │                59 │\n",
            "├────────────────────┼─────────────────────┼──────────────┼───────────────────┤\n",
            "│ t                  │ 7                   │            5 │                10 │\n",
            "╘════════════════════╧═════════════════════╧══════════════╧═══════════════════╛\n",
            "\n",
            "\n",
            "\n"
          ]
        },
        {
          "output_type": "display_data",
          "data": {
            "image/png": "[encoded data removed]",
            "text/plain": [
              "<Figure size 432x288 with 1 Axes>"
            ]
          },
          "metadata": {
            "needs_background": "light"
          }
        }
      ]
    },
    {
      "cell_type": "code",
      "metadata": {
        "colab": {
          "base_uri": "https://localhost:8080/"
        },
        "id": "m0ddoKbkkCVP",
        "outputId": "0c5546c6-eee0-4a8e-eeaa-e2102c23fea1"
      },
      "source": [
        "#Flujo máximo\n",
        "\n",
        "solver = pywraplp.Solver('Flujo máximo', pywraplp.Solver.CBC_MIXED_INTEGER_PROGRAMMING)\n",
        "\n",
        "x = { (i,j) : solver.IntVar(0.0, solver.infinity(), 'x[%i, %i]' % (i, j)) for i in v for j in v }\n",
        "z = solver.IntVar(0.0, solver.infinity(), 'z')\n",
        "            \n",
        "solver.Maximize(z)\n",
        "\n",
        "# 1\n",
        "[ solver.Add(solver.Sum(x[s,j] - x[j,s] for j in v if j != s) == z) ]\n",
        "\n",
        "# 2\n",
        "[ solver.Add(solver.Sum(x[t,j] - x[j,t] for j in v if j != t) == -z) ]\n",
        "\n",
        "# 3\n",
        "[ solver.Add(solver.Sum(x[i,j] - x[j,i] for j in v if i != j ) == 0 ) for i in v if i != s and i != t ]\n",
        "\n",
        "# 4\n",
        "[ solver.Add(x[i,j] <= k[i,j]) for j in v for i in v ]\n",
        "    \n",
        "solver.Solve()\n",
        "\n",
        "flujoMax = solver.Objective().Value()\n",
        "print('El flujo máximo es: ', flujoMax)"
      ],
      "execution_count": null,
      "outputs": [
        {
          "output_type": "stream",
          "name": "stdout",
          "text": [
            "El flujo máximo es:  13.0\n"
          ]
        }
      ]
    },
    {
      "cell_type": "code",
      "metadata": {
        "colab": {
          "base_uri": "https://localhost:8080/",
          "height": 959
        },
        "id": "bOVSd1emkJLl",
        "outputId": "29895954-68fd-4d78-f592-f2f06e4211b2"
      },
      "source": [
        "# Flujo máximo a coste mínimo\n",
        "\n",
        "solver1 = pywraplp.Solver('Flujo máximo a coste mínimo', pywraplp.Solver.CBC_MIXED_INTEGER_PROGRAMMING)\n",
        "\n",
        "f = { (i,j) : solver1.IntVar(0.0, k[i,j], 'f[%i, %i]' % (i, j)) for i in v for j in v }\n",
        "\n",
        "solver1.Minimize(solver1.Sum(c[i,j] * f[i,j]  for i in v for j in v if i != j ))\n",
        "\n",
        "# 1\n",
        "[ solver1.Add(solver1.Sum(f[s, i] - f[i, s] for i in v if i != s) == flujoMax)]\n",
        "\n",
        "# 2\n",
        "[ solver1.Add(solver1.Sum(f[t, i] - f[i, t] for i in v if i != t) == -flujoMax)]\n",
        "\n",
        "# 3\n",
        "[ solver1.Add(solver1.Sum(f[i, j] - f[j, i] for i in v ) == 0 ) for j in v if j != s and j != t ]\n",
        "\n",
        "# 4\n",
        "[ solver1.Add(f[i, j] <= flujoMax) for j in v for i in v ]\n",
        "\n",
        "solver1.Solve()\n",
        "\n",
        "aristasSol = mostrarSolucion(f, c, k)\n",
        "print(\"\\n\\nCoste camino: \", solver1.Objective().Value(), \"\\n\\n\")\n",
        "dibuja(aristasSol)"
      ],
      "execution_count": null,
      "outputs": [
        {
          "output_type": "stream",
          "name": "stdout",
          "text": [
            "╒════════════════════╤═════════════════════╤══════════════╤═══════════════════╤══════════╤══════════╤════════════════════╕\n",
            "│ Nodo origen (i):   │ Nodo destino (j):   │   Capacidad: │   Coste unitario: │   Flujo: │   Coste: │   Coste acumulado: │\n",
            "╞════════════════════╪═════════════════════╪══════════════╪═══════════════════╪══════════╪══════════╪════════════════════╡\n",
            "│ s                  │ 1                   │            5 │                68 │        3 │      204 │                204 │\n",
            "├────────────────────┼─────────────────────┼──────────────┼───────────────────┼──────────┼──────────┼────────────────────┤\n",
            "│ s                  │ 15                  │            4 │                10 │        4 │       40 │                244 │\n",
            "├────────────────────┼─────────────────────┼──────────────┼───────────────────┼──────────┼──────────┼────────────────────┤\n",
            "│ s                  │ 17                  │            6 │                19 │        6 │      114 │                358 │\n",
            "├────────────────────┼─────────────────────┼──────────────┼───────────────────┼──────────┼──────────┼────────────────────┤\n",
            "│ 1                  │ 2                   │            7 │                38 │        1 │       38 │                396 │\n",
            "├────────────────────┼─────────────────────┼──────────────┼───────────────────┼──────────┼──────────┼────────────────────┤\n",
            "│ 1                  │ 11                  │           10 │                19 │        2 │       38 │                434 │\n",
            "├────────────────────┼─────────────────────┼──────────────┼───────────────────┼──────────┼──────────┼────────────────────┤\n",
            "│ 2                  │ 6                   │            6 │                19 │        1 │       19 │                453 │\n",
            "├────────────────────┼─────────────────────┼──────────────┼───────────────────┼──────────┼──────────┼────────────────────┤\n",
            "│ 3                  │ 13                  │            4 │                19 │        2 │       38 │                491 │\n",
            "├────────────────────┼─────────────────────┼──────────────┼───────────────────┼──────────┼──────────┼────────────────────┤\n",
            "│ 6                  │ 7                   │            1 │               105 │        1 │      105 │                596 │\n",
            "├────────────────────┼─────────────────────┼──────────────┼───────────────────┼──────────┼──────────┼────────────────────┤\n",
            "│ 7                  │ t                   │           10 │                11 │        1 │       11 │                607 │\n",
            "├────────────────────┼─────────────────────┼──────────────┼───────────────────┼──────────┼──────────┼────────────────────┤\n",
            "│ 11                 │ 3                   │            4 │                 9 │        2 │       18 │                625 │\n",
            "├────────────────────┼─────────────────────┼──────────────┼───────────────────┼──────────┼──────────┼────────────────────┤\n",
            "│ 13                 │ 18                  │            2 │                11 │        2 │       22 │                647 │\n",
            "├────────────────────┼─────────────────────┼──────────────┼───────────────────┼──────────┼──────────┼────────────────────┤\n",
            "│ 15                 │ 16                  │            5 │               129 │        5 │      645 │               1292 │\n",
            "├────────────────────┼─────────────────────┼──────────────┼───────────────────┼──────────┼──────────┼────────────────────┤\n",
            "│ 16                 │ t                   │           10 │                20 │        5 │      100 │               1392 │\n",
            "├────────────────────┼─────────────────────┼──────────────┼───────────────────┼──────────┼──────────┼────────────────────┤\n",
            "│ 17                 │ 15                  │            6 │                 7 │        1 │        7 │               1399 │\n",
            "├────────────────────┼─────────────────────┼──────────────┼───────────────────┼──────────┼──────────┼────────────────────┤\n",
            "│ 17                 │ 18                  │            9 │                97 │        5 │      485 │               1884 │\n",
            "├────────────────────┼─────────────────────┼──────────────┼───────────────────┼──────────┼──────────┼────────────────────┤\n",
            "│ 18                 │ t                   │            7 │                59 │        7 │      413 │               2297 │\n",
            "╘════════════════════╧═════════════════════╧══════════════╧═══════════════════╧══════════╧══════════╧════════════════════╛\n",
            "\n",
            "\n",
            "Coste camino:  2297.0 \n",
            "\n",
            "\n"
          ]
        },
        {
          "output_type": "display_data",
          "data": {
            "image/png": "[encoded data removed]",
            "text/plain": [
              "<Figure size 432x288 with 1 Axes>"
            ]
          },
          "metadata": {
            "needs_background": "light"
          }
        }
      ]
    }
  ]
}
