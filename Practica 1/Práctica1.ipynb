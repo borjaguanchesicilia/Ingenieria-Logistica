{
  "nbformat": 4,
  "nbformat_minor": 0,
  "metadata": {
    "colab": {
      "name": "Práctica 1",
      "provenance": [],
      "collapsed_sections": []
    },
    "kernelspec": {
      "name": "python3",
      "display_name": "Python 3"
    },
    "language_info": {
      "name": "python"
    }
  },
  "cells": [
    {
      "cell_type": "code",
      "metadata": {
        "colab": {
          "base_uri": "https://localhost:8080/",
          "height": 505
        },
        "id": "-R3RotrPzACK",
        "outputId": "d023d37a-b181-4c62-9c49-d4109bc324ad"
      },
      "source": [
        "!pip install ortools\n",
        "from ortools.linear_solver import pywraplp\n",
        "import random "
      ],
      "execution_count": 2,
      "outputs": [
        {
          "output_type": "stream",
          "name": "stdout",
          "text": [
            "Collecting ortools\n",
            "  Downloading ortools-9.1.9490-cp37-cp37m-manylinux_2_17_x86_64.manylinux2014_x86_64.whl (14.5 MB)\n",
            "\u001b[K     |████████████████████████████████| 14.5 MB 92 kB/s \n",
            "\u001b[?25hCollecting protobuf>=3.18.0\n",
            "  Downloading protobuf-3.19.1-cp37-cp37m-manylinux_2_17_x86_64.manylinux2014_x86_64.whl (1.1 MB)\n",
            "\u001b[K     |████████████████████████████████| 1.1 MB 49.0 MB/s \n",
            "\u001b[?25hCollecting absl-py>=0.13\n",
            "  Downloading absl_py-1.0.0-py3-none-any.whl (126 kB)\n",
            "\u001b[K     |████████████████████████████████| 126 kB 65.8 MB/s \n",
            "\u001b[?25hRequirement already satisfied: six in /usr/local/lib/python3.7/dist-packages (from absl-py>=0.13->ortools) (1.15.0)\n",
            "Installing collected packages: protobuf, absl-py, ortools\n",
            "  Attempting uninstall: protobuf\n",
            "    Found existing installation: protobuf 3.17.3\n",
            "    Uninstalling protobuf-3.17.3:\n",
            "      Successfully uninstalled protobuf-3.17.3\n",
            "  Attempting uninstall: absl-py\n",
            "    Found existing installation: absl-py 0.12.0\n",
            "    Uninstalling absl-py-0.12.0:\n",
            "      Successfully uninstalled absl-py-0.12.0\n",
            "\u001b[31mERROR: pip's dependency resolver does not currently take into account all the packages that are installed. This behaviour is the source of the following dependency conflicts.\n",
            "tensorflow-metadata 1.4.0 requires absl-py<0.13,>=0.9, but you have absl-py 1.0.0 which is incompatible.\u001b[0m\n",
            "Successfully installed absl-py-1.0.0 ortools-9.1.9490 protobuf-3.19.1\n"
          ]
        },
        {
          "output_type": "display_data",
          "data": {
            "application/vnd.colab-display-data+json": {
              "pip_warning": {
                "packages": [
                  "google"
                ]
              }
            }
          },
          "metadata": {}
        }
      ]
    },
    {
      "cell_type": "code",
      "metadata": {
        "id": "02U2AuGT048g",
        "colab": {
          "base_uri": "https://localhost:8080/"
        },
        "outputId": "8fc428b5-156a-47f6-aee5-27e3d6450a4c"
      },
      "source": [
        "dimension = 4 # Cardinal de los conjuntos |I| = |J| = |K| = 5\n",
        "opciones  = range(dimension)\n",
        "random.seed(5)\n",
        "cost = [[[random.randint(1,100) for i in opciones] for j in opciones] for k in opciones]\n",
        "EPS = 0.001\n",
        "\n",
        "for i in opciones:\n",
        "  print(\"{\", end=\" \")\n",
        "  for j in opciones:\n",
        "    print()\n",
        "    for k in opciones:\n",
        "      print(cost[i][j][k], end=\" \")\n",
        "  print(\"\\n}\\n\")\n",
        "\n"
      ],
      "execution_count": 3,
      "outputs": [
        {
          "output_type": "stream",
          "name": "stdout",
          "text": [
            "{ \n",
            "80 33 95 46 \n",
            "89 95 84 68 \n",
            "4 60 100 32 \n",
            "84 7 21 15 \n",
            "}\n",
            "\n",
            "{ \n",
            "48 61 32 49 \n",
            "70 14 74 32 \n",
            "2 94 28 53 \n",
            "36 24 99 50 \n",
            "}\n",
            "\n",
            "{ \n",
            "21 98 10 18 \n",
            "80 80 57 17 \n",
            "17 1 1 27 \n",
            "100 28 22 22 \n",
            "}\n",
            "\n",
            "{ \n",
            "38 41 26 70 \n",
            "87 81 27 24 \n",
            "89 26 50 39 \n",
            "3 47 54 22 \n",
            "}\n",
            "\n"
          ]
        }
      ]
    },
    {
      "cell_type": "markdown",
      "metadata": {
        "id": "yzEwecSq1sRR"
      },
      "source": [
        " * Cabe mencionar que se van a generar tantas matrices de costo como indique la dimensión *(cardinal de los conjuntos)*, y para cada matriz, el número de filas y de columnas será también la dimensión. "
      ]
    },
    {
      "cell_type": "code",
      "metadata": {
        "colab": {
          "base_uri": "https://localhost:8080/"
        },
        "id": "gJIJ0anCzkhE",
        "outputId": "f735cbc6-1c45-45c9-9049-20c9005ce336"
      },
      "source": [
        "solver = pywraplp.Solver('3APaxial', pywraplp.Solver.CBC_MIXED_INTEGER_PROGRAMMING)\n",
        "\n",
        "x = { (i,j,k) : solver.BoolVar('x[%i,%i,%i]' % (i,j,k)) for i in opciones for j in opciones for k in opciones }\n",
        "            \n",
        "solver.Minimize( solver.Sum(cost[i][j][k] * x[i,j,k] for i in opciones for j in opciones for k in opciones))\n",
        "\n",
        "[ solver.Add(solver.Sum(x[i,j,k] for j in opciones for k in opciones) == 1) for i in opciones ]\n",
        "[ solver.Add(solver.Sum(x[i,j,k] for i in opciones for k in opciones) == 1) for j in opciones ]\n",
        "[ solver.Add(solver.Sum(x[i,j,k] for i in opciones for j in opciones) == 1) for k in opciones ]\n",
        "    \n",
        "sol = solver.Solve()\n",
        "\n",
        "[print(f'Al conductor {i+1} se le asigna el camión {j+1} para realizar la ruta {k+1}.  Costo = {cost[i][j][k]}') for i in opciones for j in opciones for k in opciones if x[i,j,k].solution_value() > EPS]\n",
        "\n",
        "print(f'\\nEl costo total es {solver.Objective().Value()}. Resuelto en: {solver.WallTime()/1000} segundos')"
      ],
      "execution_count": null,
      "outputs": [
        {
          "output_type": "stream",
          "name": "stdout",
          "text": [
            "Al conductor 1 se le asigna el camión 4 para realizar la ruta 5.  Costo = 54\n",
            "Al conductor 2 se le asigna el camión 2 para realizar la ruta 3.  Costo = 14\n",
            "Al conductor 3 se le asigna el camión 1 para realizar la ruta 2.  Costo = 136\n",
            "Al conductor 4 se le asigna el camión 5 para realizar la ruta 1.  Costo = 4\n",
            "Al conductor 5 se le asigna el camión 3 para realizar la ruta 4.  Costo = 59\n",
            "\n",
            "El costo total es 267.0. Resuelto en: 0.009 segundos\n"
          ]
        }
      ]
    },
    {
      "cell_type": "code",
      "metadata": {
        "id": "WxexrgSTX2q6",
        "colab": {
          "base_uri": "https://localhost:8080/"
        },
        "outputId": "07c25615-3c48-464b-ed90-dbc42890ff76"
      },
      "source": [
        "solver = pywraplp.Solver('3APaxial', pywraplp.Solver.CBC_MIXED_INTEGER_PROGRAMMING)\n",
        "\n",
        "x = { (i,j,k) : solver.BoolVar('x[%i,%i,%i]' % (i,j,k)) for i in opciones for j in opciones for k in opciones }\n",
        "            \n",
        "solver.Minimize( solver.Sum(cost[i][j][k] * x[i,j,k] for i in opciones for j in opciones for k in opciones))\n",
        "\n",
        "[ solver.Add(solver.Sum(x[i,j,k] for i in opciones) == 1) for j in opciones for k in opciones ]\n",
        "[ solver.Add(solver.Sum(x[i,j,k] for j in opciones) == 1) for i in opciones for k in opciones ]\n",
        "[ solver.Add(solver.Sum(x[i,j,k] for k in opciones) == 1) for i in opciones for j in opciones ]\n",
        "    \n",
        "sol = solver.Solve()\n",
        "\n",
        "\n",
        "for i in opciones:\n",
        "    for j in opciones:\n",
        "        for k in opciones:\n",
        "            if x[i,j,k].solution_value() > EPS :\n",
        "                print(f'Al transportista {i+1} se le ha asignado el camión {j+1} para la ruta {k+1}. Coste = {cost[i][j][k]}')\n",
        "    print(\"\\n\")\n",
        "\n",
        "print(f'\\nEl costo total es {solver.Objective().Value()}. Resuelto en: {solver.WallTime()/1000} segundos')"
      ],
      "execution_count": 7,
      "outputs": [
        {
          "output_type": "stream",
          "name": "stdout",
          "text": [
            "Al transportista 1 se le ha asignado el camión 1 para la ruta 2. Coste = 33\n",
            "Al transportista 1 se le ha asignado el camión 2 para la ruta 1. Coste = 89\n",
            "Al transportista 1 se le ha asignado el camión 3 para la ruta 4. Coste = 32\n",
            "Al transportista 1 se le ha asignado el camión 4 para la ruta 3. Coste = 21\n",
            "\n",
            "\n",
            "Al transportista 2 se le ha asignado el camión 1 para la ruta 3. Coste = 32\n",
            "Al transportista 2 se le ha asignado el camión 2 para la ruta 2. Coste = 14\n",
            "Al transportista 2 se le ha asignado el camión 3 para la ruta 1. Coste = 2\n",
            "Al transportista 2 se le ha asignado el camión 4 para la ruta 4. Coste = 50\n",
            "\n",
            "\n",
            "Al transportista 3 se le ha asignado el camión 1 para la ruta 1. Coste = 21\n",
            "Al transportista 3 se le ha asignado el camión 2 para la ruta 4. Coste = 17\n",
            "Al transportista 3 se le ha asignado el camión 3 para la ruta 3. Coste = 1\n",
            "Al transportista 3 se le ha asignado el camión 4 para la ruta 2. Coste = 28\n",
            "\n",
            "\n",
            "Al transportista 4 se le ha asignado el camión 1 para la ruta 4. Coste = 70\n",
            "Al transportista 4 se le ha asignado el camión 2 para la ruta 3. Coste = 27\n",
            "Al transportista 4 se le ha asignado el camión 3 para la ruta 2. Coste = 26\n",
            "Al transportista 4 se le ha asignado el camión 4 para la ruta 1. Coste = 3\n",
            "\n",
            "\n",
            "\n",
            "El costo total es 466.0. Resuelto en: 0.022 segundos\n"
          ]
        }
      ]
    }
  ]
}
